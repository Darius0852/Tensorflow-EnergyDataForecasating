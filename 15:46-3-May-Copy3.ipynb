{
 "cells": [
  {
   "cell_type": "markdown",
   "id": "af0c5903",
   "metadata": {},
   "source": [
    "# Convert Datasets"
   ]
  },
  {
   "cell_type": "code",
   "execution_count": null,
   "id": "fd8f5643",
   "metadata": {},
   "outputs": [],
   "source": [
    "import warnings\n",
    "\n",
    "warnings.filterwarnings('ignore')\n",
    "\n",
    "from nilmtk.dataset_converters.redd import convert_redd\n",
    "\n",
    "filename = \"/Users/dariusghomashchian/Desktop/NILM/nilmtk/data/redd.hdf5\"\n",
    "\n",
    "convert_redd.convert_redd(\"/Users/dariusghomashchian/Desktop/NILM/nilmtk/data/REDD/low_freq\", filename)"
   ]
  },
  {
   "cell_type": "code",
   "execution_count": null,
   "id": "6cc5effa",
   "metadata": {},
   "outputs": [],
   "source": [
    "import warnings\n",
    "\n",
    "warnings.filterwarnings('ignore')\n",
    "\n",
    "from nilmtk.dataset_converters.greend import convert_greend\n",
    "\n",
    "filename = \"/Users/dariusghomashchian/Desktop/NILM/nilmtk/data/GREEND/greend.hdf5\"\n",
    "\n",
    "convert_greend.convert_greend(\"/Users/dariusghomashchian/Desktop/NILM/nilmtk/data/GREEND\", filename)"
   ]
  },
  {
   "cell_type": "code",
   "execution_count": null,
   "id": "026fd41c",
   "metadata": {},
   "outputs": [],
   "source": [
    "import warnings\n",
    "\n",
    "warnings.filterwarnings('ignore')\n",
    "\n",
    "from nilmtk.dataset_converters.ukdale import convert_ukdale\n",
    "\n",
    "filename = \"/Users/dariusghomashchian/Desktop/NILM/nilmtk/data/ukdale/ukdale.hdf5\"\n",
    "\n",
    "convert_ukdale.convert_ukdale(\"/Users/dariusghomashchian/Desktop/NILM/nilmtk/data/ukdale\", filename)"
   ]
  },
  {
   "cell_type": "markdown",
   "id": "6413afb6",
   "metadata": {},
   "source": [
    "# Prepare Training Data"
   ]
  },
  {
   "cell_type": "code",
   "execution_count": null,
   "id": "64016942",
   "metadata": {},
   "outputs": [],
   "source": [
    "from nilmtk import DataSet\n",
    "\n",
    "#Select redd training data (building 1)\n",
    "train_redd = DataSet(\"/Users/dariusghomashchian/Desktop/NILM/nilmtk/data/REDD/redd.hdf5\")\n",
    "train_redd.set_window(end=\"30-4-2011\") #Use data only until 4/30/2011\n",
    "train_redd_elec = train_redd.buildings[3].elec\n",
    "\n",
    "#Select greend training data\n",
    "train_greend = DataSet(\"/Users/dariusghomashchian/Desktop/NILM/nilmtk/data/GREEND/greend.hdf5\")\n",
    "train_greend.set_window(end=\"30-4-2014\") #Use data only until 4/30/2011\n",
    "train_greend_elec = train_greend.buildings[3].elec\n",
    "\n",
    "# Select redd training data (building 1)\n",
    "# train = DataSet(\"/Users/dariusghomashchian/Desktop/NILM/nilmtk/data/REDD/redd.hdf5\")\n",
    "# train.set_window(start=\"10-5-2011\") #Use data only until 4/30/2011\n",
    "# train_elec = train.buildings[1].elec\n"
   ]
  },
  {
   "cell_type": "code",
   "execution_count": null,
   "id": "94bd9c99",
   "metadata": {},
   "outputs": [],
   "source": [
    "from grudisaggregator import GRUDisaggregator\n",
    "gru = GRUDisaggregator()"
   ]
  },
  {
   "cell_type": "code",
   "execution_count": null,
   "id": "c075858e",
   "metadata": {},
   "outputs": [],
   "source": [
    "# print(train_greend_elec)\n",
    "# print(train_redd_elec)\n",
    "print(train_elec)"
   ]
  },
  {
   "cell_type": "markdown",
   "id": "aefbed99",
   "metadata": {},
   "source": [
    "# Train"
   ]
  },
  {
   "cell_type": "code",
   "execution_count": null,
   "id": "1c82dfd4",
   "metadata": {},
   "outputs": [],
   "source": [
    "import pandas as pd\n",
    "train_redd_mains = train_redd_elec.mains().all_meters()[0] # The aggregated meter that provides the input\n",
    "train_redd_meter = train_redd_elec.submeters()['microwave'] # The microwave meter that is used as a training target\n",
    "\n",
    "train_greend_mains = train_greend_elec.mains().all_meters()[0] # The aggregated meter that provides the input\n",
    "train_greend_meter = train_greend_elec.submeters()['microwave'] # The microwave meter that is used as a training target\n",
    "\n",
    "print(train_greend_mains)\n",
    "\n",
    "train_mains = train_redd_mains + train_greend_mains # The aggregated meter that provides the input\n",
    "train_meter = train_redd_meter + train_redd_meter # The microwave meter that is used as a training target\n",
    "\n",
    "train_mains = train_elec.mains().all_meters()[0] # The aggregated meter that provides the input\n",
    "train_meter = train_elec.submeters()['microwave'] # The microwave meter that is used as a training target\n",
    "\n",
    "gru.train(train_mains, train_meter, epochs=5, sample_period=1)\n",
    "gru.export_model(\"model-redd5.h5\")"
   ]
  },
  {
   "cell_type": "markdown",
   "id": "5c48b602",
   "metadata": {},
   "source": [
    "# Test"
   ]
  },
  {
   "cell_type": "code",
   "execution_count": null,
   "id": "c969d20e",
   "metadata": {},
   "outputs": [],
   "source": [
    "# test = DataSet('/Users/dariusghomashchian/Desktop/NILM/nilmtk/data/ukdale/ukdale.hdf5')\n",
    "# test.set_window(start=\"30-4-2011\")\n",
    "# test_elec = test.buildings[1].elec\n",
    "# test_mains = test_elec.mains().all_meters()[0]\n",
    "\n",
    "test = DataSet('/Users/dariusghomashchian/Desktop/NILM/nilmtk/data/REDD/redd.hdf5')\n",
    "test.set_window(start=\"24-10-2014\")\n",
    "test_elec = test.buildings[1].elec\n",
    "test_mains = test_elec.mains().all_meters()[0]\n",
    "\n",
    "disag_filename = 'disag-out.h5' # The filename of the resulting datastore\n",
    "from nilmtk.datastore import HDFDataStore\n",
    "output = HDFDataStore(disag_filename, 'w')\n",
    "# test_mains: The aggregated signal meter\n",
    "# output: The output datastore\n",
    "# train_meter: This is used in order to copy the metadata of the train meter into the datastore\n",
    "gru.disaggregate(test_mains, output, train_meter, sample_period=1)\n",
    "output.store.close()\n",
    "output.close()\n",
    "\n"
   ]
  },
  {
   "cell_type": "code",
   "execution_count": null,
   "id": "cd385908",
   "metadata": {},
   "outputs": [],
   "source": [
    "output.close()"
   ]
  },
  {
   "cell_type": "markdown",
   "id": "f5a692cc",
   "metadata": {},
   "source": [
    "# Results"
   ]
  },
  {
   "cell_type": "code",
   "execution_count": null,
   "id": "aeea596d",
   "metadata": {},
   "outputs": [],
   "source": [
    "result = DataSet(disag_filename)\n",
    "res_elec = result.buildings[1].elec\n",
    "predicted = res_elec['microwave']\n",
    "ground_truth = test_elec['microwave']\n",
    "\n",
    "import matplotlib.pyplot as plt\n",
    "predicted.plot(label=\"kettle\")\n",
    "ground_truth.plot(label=\"kettle\")\n",
    "plt.show()"
   ]
  },
  {
   "cell_type": "code",
   "execution_count": null,
   "id": "5dcc2aa8",
   "metadata": {},
   "outputs": [],
   "source": [
    "from nilmtk import pmetrics\n",
    "rpaf = pmetrics.recall_precision_accuracy_f1(predicted, ground_truth)\n",
    "print(\"kettle\")\n",
    "print(\"============ Recall: {}\".format(rpaf[0]))\n",
    "print(\"============ Precision: {}\".format(rpaf[1]))\n",
    "print(\"============ Accuracy: {}\".format(rpaf[2]))\n",
    "print(\"============ F1 Score: {}\".format(rpaf[3]))\n",
    "\n",
    "print(\"============ Relative error in total energy: {}\".format(pmetrics.relative_error_total_energy(predicted, ground_truth)))\n",
    "print(\"============ Mean absolute error(in Watts): {}\".format(pmetrics.mean_absolute_error(predicted, ground_truth)))"
   ]
  },
  {
   "cell_type": "code",
   "execution_count": null,
   "id": "2368a507",
   "metadata": {},
   "outputs": [],
   "source": []
  },
  {
   "cell_type": "code",
   "execution_count": null,
   "id": "5b05068a",
   "metadata": {},
   "outputs": [],
   "source": []
  },
  {
   "cell_type": "code",
   "execution_count": null,
   "id": "8f9f7ee3",
   "metadata": {},
   "outputs": [],
   "source": []
  }
 ],
 "metadata": {
  "kernelspec": {
   "display_name": "Python 3",
   "language": "python",
   "name": "python3"
  },
  "language_info": {
   "codemirror_mode": {
    "name": "ipython",
    "version": 3
   },
   "file_extension": ".py",
   "mimetype": "text/x-python",
   "name": "python",
   "nbconvert_exporter": "python",
   "pygments_lexer": "ipython3",
   "version": "3.8.8"
  }
 },
 "nbformat": 4,
 "nbformat_minor": 5
}
